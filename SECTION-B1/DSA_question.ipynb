{
 "cells": [
  {
   "cell_type": "code",
   "execution_count": 1,
   "id": "e62080f4",
   "metadata": {},
   "outputs": [],
   "source": [
    "\"\"\"\n",
    "1. You are given a 2D matrix of dimensions m * n consisting of\n",
    "integers, and an integer k. Your task is to print “true” if the\n",
    "element k lies in the matrix and “false” otherwise. If the element\n",
    "exists then print the index in a new line.\n",
    "Each row and column is in sorted order, and the first element of a\n",
    "row is greater than the last element of the previous row.\n",
    "Example:\n",
    "Input:\n",
    "m = 3\n",
    "n = 4\n",
    "k = 7\n",
    "Matrix = [ 1 2 3 4 ]\n",
    "[ 5 6 7 8 ]\n",
    "[ 9 10 11 12 ]\n",
    "Input format:\n",
    "<m> <n>\n",
    "<k>\n",
    "<matrix>\n",
    "Example:\n",
    "3 4\n",
    "7\n",
    "1 2 3 4\n",
    "5 6 7 8\n",
    "9 10 11 12\n",
    "Output:\n",
    "True\n",
    "1 2\n",
    "\"\"\"\n",
    "pass"
   ]
  },
  {
   "cell_type": "code",
   "execution_count": 2,
   "id": "8efc19c8",
   "metadata": {},
   "outputs": [],
   "source": [
    "# BINARY SEARCH IS FASTEST among sorted searches wrt Time Complexity and has O(log N)\n",
    "# Search function = binarysearch to find row \n",
    "# binary_search = binarysearch to find column"
   ]
  },
  {
   "cell_type": "code",
   "execution_count": 3,
   "id": "1858fd78",
   "metadata": {},
   "outputs": [],
   "source": [
    "def binary_search(arr,search_no):\n",
    "    l=0\n",
    "    r=len(arr)\n",
    "    while l<=r:\n",
    "        mid=int((l+r)/2)\n",
    "        if int(arr[mid])==search_no:\n",
    "            return mid\n",
    "        if int(arr[mid])<search_no:\n",
    "            l=mid+1\n",
    "        else:\n",
    "            r=mid-1\n",
    "        \n",
    "    return -1"
   ]
  },
  {
   "cell_type": "code",
   "execution_count": 4,
   "id": "0da43e46",
   "metadata": {},
   "outputs": [
    {
     "data": {
      "text/plain": [
       "2"
      ]
     },
     "execution_count": 4,
     "metadata": {},
     "output_type": "execute_result"
    }
   ],
   "source": [
    "binary_search([1,4,7,9],7)"
   ]
  },
  {
   "cell_type": "code",
   "execution_count": 5,
   "id": "ac8e34fa",
   "metadata": {},
   "outputs": [],
   "source": [
    "def search(matrix,m,n,search_no):\n",
    "    rr=m\n",
    "    lr=0\n",
    "    while lr<=rr:\n",
    "        mid_row=int((rr+lr)/2)\n",
    "        if (int(matrix[mid_row][0])<=search_no and int(matrix[mid_row][n-1])>=search_no):\n",
    "            temp=binary_search(matrix[mid_row],search_no)\n",
    "            if(temp)==-1:\n",
    "                return False\n",
    "            #else\n",
    "            print(\"True\")\n",
    "            return mid_row,temp\n",
    "        else:\n",
    "            if int(matrix[mid_row][0])>=search_no:\n",
    "                rr=mid_row-1\n",
    "            else:\n",
    "                lr=mid_row+1\n",
    "    return \"-1\""
   ]
  },
  {
   "cell_type": "code",
   "execution_count": 6,
   "id": "674f0eb7",
   "metadata": {},
   "outputs": [
    {
     "name": "stdout",
     "output_type": "stream",
     "text": [
      "True\n"
     ]
    },
    {
     "data": {
      "text/plain": [
       "(0, 3)"
      ]
     },
     "execution_count": 6,
     "metadata": {},
     "output_type": "execute_result"
    }
   ],
   "source": [
    "search([[1,2,3,4],[7,8,9,10],[11,12,13,14]],3,4,4)"
   ]
  },
  {
   "cell_type": "code",
   "execution_count": 7,
   "id": "aa1139e5",
   "metadata": {},
   "outputs": [
    {
     "name": "stdout",
     "output_type": "stream",
     "text": [
      "3 4\n",
      "8\n",
      " 1 2 4 5\n",
      " 6 8 9 11\n",
      " 13 15 16 19\n",
      "True\n"
     ]
    },
    {
     "data": {
      "text/plain": [
       "(1, 1)"
      ]
     },
     "execution_count": 7,
     "metadata": {},
     "output_type": "execute_result"
    }
   ],
   "source": [
    "# Enter No of rows and columns\n",
    "rows_columns=input(\"\")\n",
    "m,n=rows_columns.split(' ')\n",
    "# Enter no to be searched \n",
    "k=int(input(\"\"))\n",
    "matrix=[]\n",
    "for i in range(int(m)):\n",
    "    a=(input(\" \"))\n",
    "    a=a.split(\" \")\n",
    "    matrix.append(a)\n",
    "search(matrix,int(m),int(n),int(k))"
   ]
  }
 ],
 "metadata": {
  "kernelspec": {
   "display_name": "Python 3",
   "language": "python",
   "name": "python3"
  },
  "language_info": {
   "codemirror_mode": {
    "name": "ipython",
    "version": 3
   },
   "file_extension": ".py",
   "mimetype": "text/x-python",
   "name": "python",
   "nbconvert_exporter": "python",
   "pygments_lexer": "ipython3",
   "version": "3.8.0"
  }
 },
 "nbformat": 4,
 "nbformat_minor": 5
}
